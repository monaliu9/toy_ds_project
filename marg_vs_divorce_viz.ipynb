{
 "cells": [
  {
   "cell_type": "code",
   "execution_count": 1,
   "id": "b10d132e-e002-405d-959e-79751ec9455a",
   "metadata": {
    "tags": []
   },
   "outputs": [
    {
     "name": "stderr",
     "output_type": "stream",
     "text": [
      "── \u001b[1mAttaching packages\u001b[22m ─────────────────────────────────────── tidyverse 1.3.2 ──\n",
      "\u001b[32m✔\u001b[39m \u001b[34mggplot2\u001b[39m 3.4.2     \u001b[32m✔\u001b[39m \u001b[34mpurrr  \u001b[39m 1.0.1\n",
      "\u001b[32m✔\u001b[39m \u001b[34mtibble \u001b[39m 3.2.1     \u001b[32m✔\u001b[39m \u001b[34mdplyr  \u001b[39m 1.1.1\n",
      "\u001b[32m✔\u001b[39m \u001b[34mtidyr  \u001b[39m 1.3.0     \u001b[32m✔\u001b[39m \u001b[34mstringr\u001b[39m 1.5.0\n",
      "\u001b[32m✔\u001b[39m \u001b[34mreadr  \u001b[39m 2.1.3     \u001b[32m✔\u001b[39m \u001b[34mforcats\u001b[39m 0.5.2\n",
      "── \u001b[1mConflicts\u001b[22m ────────────────────────────────────────── tidyverse_conflicts() ──\n",
      "\u001b[31m✖\u001b[39m \u001b[34mdplyr\u001b[39m::\u001b[32mfilter()\u001b[39m masks \u001b[34mstats\u001b[39m::filter()\n",
      "\u001b[31m✖\u001b[39m \u001b[34mdplyr\u001b[39m::\u001b[32mlag()\u001b[39m    masks \u001b[34mstats\u001b[39m::lag()\n"
     ]
    },
    {
     "ename": "ERROR",
     "evalue": "Error in library(cowplot): there is no package called ‘cowplot’\n",
     "output_type": "error",
     "traceback": [
      "Error in library(cowplot): there is no package called ‘cowplot’\nTraceback:\n",
      "1. library(cowplot)"
     ]
    }
   ],
   "source": [
    "library(tidyverse)\n",
    "library(cowplot)\n",
    "library(scales)\n",
    "\n",
    "# Data sourced from the Spurious Correlations website (http://www.tylervigen.com/spurious-correlations)\n",
    "should_have_bought_butter <- tibble(margarine_consumption = c(8.2, 7, 6.5, 5.3, 5.2,\n",
    "                                                             4, 4.6, 4.5, 4.2, 3.7),\n",
    "                                   maine_divorce_rate = c(5, 4.7, 4.6, 4.4, 4.3,\n",
    "                                                         4.1, 4.2, 4.2, 4.2, 4.1),\n",
    "                                   year = c(2000, 2001, 2002, 2003, 2004,\n",
    "                                           2005, 2006, 2007, 2008, 2009))\n",
    "\n",
    "marg_vs_time <- should_have_bought_butter |> \n",
    "    ggplot(aes(x = year, y = margarine_consumption)) +\n",
    "        geom_line(colour = \"Blue\") + \n",
    "        labs(x = \"\", y = \"Margarine consumption \\n(lbs per capita)\", \n",
    "             title = \"Divorce rate in Maine correlates with margarine consumption\") +\n",
    "        theme_bw() +\n",
    "        theme(axis.ticks.x = element_blank(),\n",
    "        axis.text.x = element_blank()) +\n",
    "        theme(text = element_text(size = 20)) +\n",
    "        scale_y_continuous(labels = number_format(accuracy = 0.01))\n",
    "\n",
    "\n",
    "divorce_rate_vs_time <- should_have_bought_butter |> \n",
    "    ggplot(aes(x = year, y = maine_divorce_rate)) +\n",
    "        geom_line(colour = \"Red\") + \n",
    "        labs(x = \"Year\", y = \"Divorce rate in Maine \\n(per 1000)\") +\n",
    "        scale_x_continuous(breaks = 0:2100) +\n",
    "        theme_bw() +\n",
    "        theme(text = element_text(size = 20)) \n",
    "\n",
    "options(repr.plot.width = 11, repr.plot.height = 8)\n",
    "plot_grid(marg_vs_time, divorce_rate_vs_time, ncol = 1)"
   ]
  },
  {
   "cell_type": "code",
   "execution_count": null,
   "id": "381e8d1c-b632-4854-ae3c-89dfe2ceee7f",
   "metadata": {
    "tags": []
   },
   "outputs": [],
   "source": [
    "install.packages('cowplot')"
   ]
  },
  {
   "cell_type": "code",
   "execution_count": null,
   "id": "bd87affd-ead8-45a4-8873-cea16f7dc046",
   "metadata": {
    "tags": []
   },
   "outputs": [],
   "source": [
    "install.packages('scales')"
   ]
  },
  {
   "cell_type": "code",
   "execution_count": null,
   "id": "e1f67d54-ab3a-487b-988f-4d8398879f41",
   "metadata": {},
   "outputs": [],
   "source": []
  }
 ],
 "metadata": {
  "kernelspec": {
   "display_name": "R",
   "language": "R",
   "name": "ir"
  },
  "language_info": {
   "codemirror_mode": "r",
   "file_extension": ".r",
   "mimetype": "text/x-r-source",
   "name": "R",
   "pygments_lexer": "r",
   "version": "4.2.2"
  }
 },
 "nbformat": 4,
 "nbformat_minor": 5
}
